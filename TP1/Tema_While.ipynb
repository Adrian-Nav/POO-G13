{
 "cells": [
  {
   "cell_type": "markdown",
   "metadata": {},
   "source": [
    "### Ejercicio 1 (Básico - Completar Código)\n",
    "Completa el siguiente código para que imprima los números del 10 al 1 en orden descendente utilizando un bucle while:"
   ]
  },
  {
   "cell_type": "code",
   "execution_count": 10,
   "metadata": {},
   "outputs": [
    {
     "name": "stdout",
     "output_type": "stream",
     "text": [
      "9\n",
      "8\n",
      "7\n",
      "6\n",
      "5\n",
      "4\n",
      "3\n",
      "2\n",
      "1\n",
      "0\n"
     ]
    }
   ],
   "source": [
    "x = 10\n",
    "while x>0 :\n",
    "    x = x-1\n",
    "    print(x)\n"
   ]
  },
  {
   "cell_type": "markdown",
   "metadata": {},
   "source": [
    "### Ejercicio 2 (Intermedio - Escribir Código desde Cero)\n",
    "Escribe un programa que pida un número positivo al usuario y verifique que sea realmente positivo. Si el usuario ingresa un número negativo, el programa debe seguir pidiendo el número hasta que ingrese uno positivo."
   ]
  },
  {
   "cell_type": "code",
   "execution_count": 15,
   "metadata": {},
   "outputs": [
    {
     "ename": "IndentationError",
     "evalue": "unindent does not match any outer indentation level (<string>, line 4)",
     "output_type": "error",
     "traceback": [
      "  \u001b[36mFile \u001b[39m\u001b[32m<string>:4\u001b[39m\n\u001b[31m    \u001b[39m\u001b[31mprint(\"el numero es positivo\")\u001b[39m\n                                  ^\n\u001b[31mIndentationError\u001b[39m\u001b[31m:\u001b[39m unindent does not match any outer indentation level\n"
     ]
    }
   ],
   "source": [
    "x =int(input(\"ingrese un numero positivo\"))\n",
    "while x<0 :\n",
    "  x =int(input(\"ingrese un numero positivo\"))\n",
    " print(\"el numero es positivo\")"
   ]
  },
  {
   "cell_type": "markdown",
   "metadata": {},
   "source": [
    "### Ejercicio 3 (Avanzado - Aplicar While Anidado y Lógica Adicional)\n",
    "Crea un programa que genere y muestre la tabla de multiplicar de un número ingresado por el usuario, desde el 1 hasta el 10.\n",
    "El programa debe permitir al usuario ingresar múltiples números hasta que decida salir ingresando 0."
   ]
  },
  {
   "cell_type": "code",
   "execution_count": null,
   "metadata": {},
   "outputs": [],
   "source": []
  }
 ],
 "metadata": {
  "kernelspec": {
   "display_name": "entorno_san_pablo",
   "language": "python",
   "name": "python3"
  },
  "language_info": {
   "name": "python",
   "version": "3.10.12"
  }
 },
 "nbformat": 4,
 "nbformat_minor": 2
}
