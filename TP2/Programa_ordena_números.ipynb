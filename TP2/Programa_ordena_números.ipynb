{
 "cells": [
  {
   "cell_type": "code",
   "execution_count": 3,
   "metadata": {},
   "outputs": [
    {
     "ename": "TypeError",
     "evalue": "'list' object is not callable",
     "output_type": "error",
     "traceback": [
      "\u001b[31m---------------------------------------------------------------------------\u001b[39m",
      "\u001b[31mTypeError\u001b[39m                                 Traceback (most recent call last)",
      "\u001b[36mCell\u001b[39m\u001b[36m \u001b[39m\u001b[32mIn[3]\u001b[39m\u001b[32m, line 11\u001b[39m\n\u001b[32m      9\u001b[39m \u001b[38;5;28;01mfor\u001b[39;00m i \u001b[38;5;129;01min\u001b[39;00m \u001b[38;5;28mrange\u001b[39m(\u001b[38;5;28mlen\u001b[39m(list1)) :\n\u001b[32m     10\u001b[39m     \u001b[38;5;28;01mif\u001b[39;00m i < (i+\u001b[32m1\u001b[39m) :\n\u001b[32m---> \u001b[39m\u001b[32m11\u001b[39m         d = \u001b[43mlist1\u001b[49m\u001b[43m(\u001b[49m\u001b[43mi\u001b[49m\u001b[43m)\u001b[49m\n\u001b[32m     12\u001b[39m list2.append(d) \n\u001b[32m     13\u001b[39m list1.pop(j) \n",
      "\u001b[31mTypeError\u001b[39m: 'list' object is not callable"
     ]
    }
   ],
   "source": [
    "list1= [1,2,5,4,6,8,9]\n",
    "list2 =[]\n",
    "j=0\n",
    "i=0\n",
    "d=0\n",
    "k=3\n",
    "if i < 7:\n",
    "    for j in range(len(list1)) :\n",
    "        for i in range(len(list1)) :\n",
    "            if i < (i+1) :\n",
    "                d = list1(i)\n",
    "        list2.append(d) \n",
    "        list1.pop(j) \n",
    "print(list2()) \n",
    "        \n"
   ]
  }
 ],
 "metadata": {
  "kernelspec": {
   "display_name": "Python 3",
   "language": "python",
   "name": "python3"
  },
  "language_info": {
   "codemirror_mode": {
    "name": "ipython",
    "version": 3
   },
   "file_extension": ".py",
   "mimetype": "text/x-python",
   "name": "python",
   "nbconvert_exporter": "python",
   "pygments_lexer": "ipython3",
   "version": "3.13.2"
  }
 },
 "nbformat": 4,
 "nbformat_minor": 2
}
