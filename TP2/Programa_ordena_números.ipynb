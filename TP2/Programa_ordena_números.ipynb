{
 "cells": [
  {
   "cell_type": "code",
   "execution_count": null,
   "metadata": {},
   "outputs": [],
   "source": [
    "list1= [1,2,5,4,6,8,9]\n",
    "list2 =[]\n",
    "d=0\n",
    "k=3\n",
    "for j in (len(list1)) :\n",
    " for i in (len(list1)) :\n",
    "  if j < i :\n",
    "      \n"
   ]
  }
 ],
 "metadata": {
  "language_info": {
   "name": "python"
  }
 },
 "nbformat": 4,
 "nbformat_minor": 2
}
